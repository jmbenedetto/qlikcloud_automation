{
 "cells": [
  {
   "cell_type": "markdown",
   "metadata": {},
   "source": [
    "# GOAL\n",
    "Understand Qlik Cloud APIs and their Python implementation"
   ]
  },
  {
   "cell_type": "markdown",
   "metadata": {},
   "source": [
    "# PACKAGES"
   ]
  },
  {
   "cell_type": "code",
   "execution_count": 9,
   "metadata": {},
   "outputs": [],
   "source": [
    "from qlik_sdk import Apps, AuthType, Config, Auth, Qlik\n",
    "import os"
   ]
  },
  {
   "cell_type": "markdown",
   "metadata": {},
   "source": [
    "# PARAMETERS"
   ]
  },
  {
   "cell_type": "code",
   "execution_count": 10,
   "metadata": {},
   "outputs": [],
   "source": [
    "api_key = os.getenv('QLIK_CLOUD_API_KEY')\n",
    "base_url = \"https://jmbenedetto.us.qlikcloud.com\""
   ]
  },
  {
   "cell_type": "markdown",
   "metadata": {},
   "source": [
    "# FUNCTIONS"
   ]
  },
  {
   "cell_type": "code",
   "execution_count": null,
   "metadata": {},
   "outputs": [],
   "source": []
  },
  {
   "cell_type": "markdown",
   "metadata": {},
   "source": [
    "# DATA WRANGLING"
   ]
  },
  {
   "cell_type": "code",
   "execution_count": 11,
   "metadata": {},
   "outputs": [],
   "source": [
    "#auth = Auth(Config(host=base_url, auth_type=AuthType.APIKey, api_key=api_key))\n",
    "\n",
    "qlik = Qlik(Config(host=base_url, auth_type=AuthType.APIKey, api_key=api_key))\n",
    "user_me = qlik.users.get_me()\n",
    "\n",
    "# For REST calls: auth.rest\n",
    "# For RPC calls: auth.rpc"
   ]
  },
  {
   "cell_type": "code",
   "execution_count": 19,
   "metadata": {},
   "outputs": [
    {
     "data": {
      "text/plain": [
       "NxApp(qType=None, qHandle=None, qGenericType=None, qGenericId=None, Global=None, attributes=NxAttributes(createdDate='2022-08-18T22:49:53.387Z', custom=JsonObject(), description='', dynamicColor='', encrypted=True, hasSectionAccess=False, id='e1f57751-87ea-4e3f-b82e-0ae47c29fd14', isDirectQueryMode=False, lastReloadTime='2022-09-11T00:33:52.618Z', modifiedDate='2022-09-11T00:33:59.982Z', name='finance_control', originAppId='', owner='auth0|b865c5e4bb5213e9a927ccd308a658eb8873088e4188bdc33f5b08bf823a8155', ownerId='62694a2aeb6530abc1079c65', publishTime='', published=False, thumbnail=''), create=[NxAppCreatePrivileges(canCreate=True, resource='sheet'), NxAppCreatePrivileges(canCreate=True, resource='bookmark'), NxAppCreatePrivileges(canCreate=True, resource='snapshot'), NxAppCreatePrivileges(canCreate=True, resource='story'), NxAppCreatePrivileges(canCreate=True, resource='dimension'), NxAppCreatePrivileges(canCreate=True, resource='measure'), NxAppCreatePrivileges(canCreate=True, resource='masterobject'), NxAppCreatePrivileges(canCreate=True, resource='variable')], privileges=['read', 'update', 'delete', 'reload', 'export', 'duplicate', 'change_owner', 'change_space', 'export_reduced', 'source'])"
      ]
     },
     "execution_count": 19,
     "metadata": {},
     "output_type": "execute_result"
    }
   ],
   "source": [
    "qlik.apps.get(\"e1f57751-87ea-4e3f-b82e-0ae47c29fd14\")"
   ]
  },
  {
   "cell_type": "code",
   "execution_count": null,
   "metadata": {},
   "outputs": [],
   "source": []
  }
 ],
 "metadata": {
  "kernelspec": {
   "display_name": "Python 3.10.6 ('qlikcloud')",
   "language": "python",
   "name": "python3"
  },
  "language_info": {
   "codemirror_mode": {
    "name": "ipython",
    "version": 3
   },
   "file_extension": ".py",
   "mimetype": "text/x-python",
   "name": "python",
   "nbconvert_exporter": "python",
   "pygments_lexer": "ipython3",
   "version": "3.10.6"
  },
  "orig_nbformat": 4,
  "vscode": {
   "interpreter": {
    "hash": "e087c9512819afb3ca9a5a75d21f9cfc6ccd88a80405da3b4b6f66cdc03a230d"
   }
  }
 },
 "nbformat": 4,
 "nbformat_minor": 2
}
