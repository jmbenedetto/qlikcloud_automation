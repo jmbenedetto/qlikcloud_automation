{
 "cells": [
  {
   "cell_type": "markdown",
   "metadata": {},
   "source": [
    "# GOAL\n",
    "Understand Qlik Cloud APIs and their Python implementation"
   ]
  },
  {
   "cell_type": "markdown",
   "metadata": {},
   "source": [
    "# PACKAGES"
   ]
  },
  {
   "cell_type": "code",
   "execution_count": 1,
   "metadata": {},
   "outputs": [],
   "source": [
    "from qlik_sdk import Apps, AuthType, Config, Auth, Qlik\n",
    "import os"
   ]
  },
  {
   "cell_type": "markdown",
   "metadata": {},
   "source": [
    "# PARAMETERS"
   ]
  },
  {
   "cell_type": "code",
   "execution_count": 2,
   "metadata": {},
   "outputs": [],
   "source": [
    "api_key = os.getenv('QLIK_CLOUD_API_KEY')\n",
    "base_url = \"https://jmbenedetto.us.qlikcloud.com\""
   ]
  },
  {
   "cell_type": "markdown",
   "metadata": {},
   "source": [
    "# FUNCTIONS"
   ]
  },
  {
   "cell_type": "code",
   "execution_count": 4,
   "metadata": {},
   "outputs": [],
   "source": []
  },
  {
   "cell_type": "markdown",
   "metadata": {},
   "source": [
    "# DATA WRANGLING"
   ]
  },
  {
   "cell_type": "code",
   "execution_count": 3,
   "metadata": {},
   "outputs": [
    {
     "ename": "CustomException",
     "evalue": "Missing config property: api_key",
     "output_type": "error",
     "traceback": [
      "\u001b[0;31m---------------------------------------------------------------------------\u001b[0m",
      "\u001b[0;31mCustomException\u001b[0m                           Traceback (most recent call last)",
      "Cell \u001b[0;32mIn [3], line 3\u001b[0m\n\u001b[1;32m      1\u001b[0m \u001b[39m#auth = Auth(Config(host=base_url, auth_type=AuthType.APIKey, api_key=api_key))\u001b[39;00m\n\u001b[0;32m----> 3\u001b[0m qlik \u001b[39m=\u001b[39m Qlik(Config(host\u001b[39m=\u001b[39;49mbase_url, auth_type\u001b[39m=\u001b[39;49mAuthType\u001b[39m.\u001b[39;49mAPIKey, api_key\u001b[39m=\u001b[39;49mapi_key))\n\u001b[1;32m      4\u001b[0m user_me \u001b[39m=\u001b[39m qlik\u001b[39m.\u001b[39musers\u001b[39m.\u001b[39mget_me()\n",
      "File \u001b[0;32m/opt/homebrew/Caskroom/mambaforge/base/envs/qlikcloud/lib/python3.10/site-packages/qlik_sdk/qlik.py:102\u001b[0m, in \u001b[0;36mQlik.__init__\u001b[0;34m(self, config)\u001b[0m\n\u001b[1;32m    100\u001b[0m \u001b[39mdef\u001b[39;00m \u001b[39m__init__\u001b[39m(\u001b[39mself\u001b[39m, config: Config) \u001b[39m-\u001b[39m\u001b[39m>\u001b[39m \u001b[39mNone\u001b[39;00m:\n\u001b[1;32m    101\u001b[0m     \u001b[39mself\u001b[39m\u001b[39m.\u001b[39mconfig \u001b[39m=\u001b[39m config\n\u001b[0;32m--> 102\u001b[0m     \u001b[39mself\u001b[39m\u001b[39m.\u001b[39mauth \u001b[39m=\u001b[39m Auth(config\u001b[39m=\u001b[39;49mconfig)\n\u001b[1;32m    103\u001b[0m     \u001b[39mself\u001b[39m\u001b[39m.\u001b[39mrest \u001b[39m=\u001b[39m \u001b[39mself\u001b[39m\u001b[39m.\u001b[39mauth\u001b[39m.\u001b[39mrest\n\u001b[1;32m    104\u001b[0m     \u001b[39mself\u001b[39m\u001b[39m.\u001b[39mrpc \u001b[39m=\u001b[39m \u001b[39mself\u001b[39m\u001b[39m.\u001b[39mauth\u001b[39m.\u001b[39mrpc\n",
      "File \u001b[0;32m/opt/homebrew/Caskroom/mambaforge/base/envs/qlikcloud/lib/python3.10/site-packages/qlik_sdk/auth.py:100\u001b[0m, in \u001b[0;36mAuth.__init__\u001b[0;34m(self, config)\u001b[0m\n\u001b[1;32m     99\u001b[0m \u001b[39mdef\u001b[39;00m \u001b[39m__init__\u001b[39m(\u001b[39mself\u001b[39m, config: Config):\n\u001b[0;32m--> 100\u001b[0m     config\u001b[39m.\u001b[39;49mvalidate()\n\u001b[1;32m    101\u001b[0m     \u001b[39mself\u001b[39m\u001b[39m.\u001b[39mconfig \u001b[39m=\u001b[39m config\n\u001b[1;32m    102\u001b[0m     \u001b[39mself\u001b[39m\u001b[39m.\u001b[39mrest \u001b[39m=\u001b[39m RestClientInstance(RestClient(config))\n",
      "File \u001b[0;32m/opt/homebrew/Caskroom/mambaforge/base/envs/qlikcloud/lib/python3.10/site-packages/qlik_sdk/config.py:26\u001b[0m, in \u001b[0;36mConfig.validate\u001b[0;34m(self)\u001b[0m\n\u001b[1;32m     24\u001b[0m \u001b[39mif\u001b[39;00m \u001b[39mself\u001b[39m\u001b[39m.\u001b[39mauth_type \u001b[39m==\u001b[39m AuthType\u001b[39m.\u001b[39mAPIKey:\n\u001b[1;32m     25\u001b[0m     \u001b[39mif\u001b[39;00m \u001b[39mnot\u001b[39;00m \u001b[39mself\u001b[39m\u001b[39m.\u001b[39mapi_key:\n\u001b[0;32m---> 26\u001b[0m         \u001b[39mraise\u001b[39;00m CustomException(\n\u001b[1;32m     27\u001b[0m             CustomExceptionMsg\u001b[39m.\u001b[39mMISSING_CONFIG_PROPERTY\u001b[39m.\u001b[39mvalue \u001b[39m+\u001b[39m \u001b[39m\"\u001b[39m\u001b[39m: api_key\u001b[39m\u001b[39m\"\u001b[39m\n\u001b[1;32m     28\u001b[0m         )\n\u001b[1;32m     29\u001b[0m     allowed_keys \u001b[39m=\u001b[39m {\u001b[39m\"\u001b[39m\u001b[39mhost\u001b[39m\u001b[39m\"\u001b[39m, \u001b[39m\"\u001b[39m\u001b[39mauth_type\u001b[39m\u001b[39m\"\u001b[39m, \u001b[39m\"\u001b[39m\u001b[39mapi_key\u001b[39m\u001b[39m\"\u001b[39m}\n\u001b[1;32m     30\u001b[0m     \u001b[39mfor\u001b[39;00m k \u001b[39min\u001b[39;00m \u001b[39mself\u001b[39m\u001b[39m.\u001b[39m\u001b[39m__dict__\u001b[39m\u001b[39m.\u001b[39mkeys():\n",
      "\u001b[0;31mCustomException\u001b[0m: Missing config property: api_key"
     ]
    }
   ],
   "source": [
    "#auth = Auth(Config(host=base_url, auth_type=AuthType.APIKey, api_key=api_key))\n",
    "\n",
    "qlik = Qlik(Config(host=base_url, auth_type=AuthType.APIKey, api_key=api_key))\n",
    "user_me = qlik.users.get_me()\n",
    "\n",
    "# For REST calls: auth.rest\n",
    "# For RPC calls: auth.rpc"
   ]
  },
  {
   "cell_type": "code",
   "execution_count": 19,
   "metadata": {},
   "outputs": [
    {
     "data": {
      "text/plain": [
       "NxApp(qType=None, qHandle=None, qGenericType=None, qGenericId=None, Global=None, attributes=NxAttributes(createdDate='2022-08-18T22:49:53.387Z', custom=JsonObject(), description='', dynamicColor='', encrypted=True, hasSectionAccess=False, id='e1f57751-87ea-4e3f-b82e-0ae47c29fd14', isDirectQueryMode=False, lastReloadTime='2022-09-11T00:33:52.618Z', modifiedDate='2022-09-11T00:33:59.982Z', name='finance_control', originAppId='', owner='auth0|b865c5e4bb5213e9a927ccd308a658eb8873088e4188bdc33f5b08bf823a8155', ownerId='62694a2aeb6530abc1079c65', publishTime='', published=False, thumbnail=''), create=[NxAppCreatePrivileges(canCreate=True, resource='sheet'), NxAppCreatePrivileges(canCreate=True, resource='bookmark'), NxAppCreatePrivileges(canCreate=True, resource='snapshot'), NxAppCreatePrivileges(canCreate=True, resource='story'), NxAppCreatePrivileges(canCreate=True, resource='dimension'), NxAppCreatePrivileges(canCreate=True, resource='measure'), NxAppCreatePrivileges(canCreate=True, resource='masterobject'), NxAppCreatePrivileges(canCreate=True, resource='variable')], privileges=['read', 'update', 'delete', 'reload', 'export', 'duplicate', 'change_owner', 'change_space', 'export_reduced', 'source'])"
      ]
     },
     "execution_count": 19,
     "metadata": {},
     "output_type": "execute_result"
    }
   ],
   "source": [
    "qlik.apps.get(\"e1f57751-87ea-4e3f-b82e-0ae47c29fd14\")"
   ]
  },
  {
   "cell_type": "code",
   "execution_count": null,
   "metadata": {},
   "outputs": [],
   "source": []
  }
 ],
 "metadata": {
  "kernelspec": {
   "display_name": "Python 3.10.6 ('qlikcloud')",
   "language": "python",
   "name": "python3"
  },
  "language_info": {
   "codemirror_mode": {
    "name": "ipython",
    "version": 3
   },
   "file_extension": ".py",
   "mimetype": "text/x-python",
   "name": "python",
   "nbconvert_exporter": "python",
   "pygments_lexer": "ipython3",
   "version": "3.10.6"
  },
  "orig_nbformat": 4,
  "vscode": {
   "interpreter": {
    "hash": "e087c9512819afb3ca9a5a75d21f9cfc6ccd88a80405da3b4b6f66cdc03a230d"
   }
  }
 },
 "nbformat": 4,
 "nbformat_minor": 2
}
