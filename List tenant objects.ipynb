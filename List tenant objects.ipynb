{
 "cells": [
  {
   "cell_type": "markdown",
   "metadata": {},
   "source": [
    "# GOAL\n",
    "Export tanant objects to csv files."
   ]
  },
  {
   "cell_type": "markdown",
   "metadata": {},
   "source": [
    "# PACKAGES"
   ]
  },
  {
   "cell_type": "code",
   "execution_count": 1,
   "metadata": {},
   "outputs": [],
   "source": [
    "from qlik_sdk import Apps, AuthType, Config, Auth, Qlik\n",
    "import os\n",
    "import pandas as pd"
   ]
  },
  {
   "cell_type": "markdown",
   "metadata": {},
   "source": [
    "# PARAMETERS"
   ]
  },
  {
   "cell_type": "code",
   "execution_count": 23,
   "metadata": {},
   "outputs": [],
   "source": [
    "api_key = os.getenv('QLIK_CLOUD_API_KEY_SVE')\n",
    "tenant_name='sve.us'\n",
    "base_url = \"https://\"+tenant_name+\".qlikcloud.com\""
   ]
  },
  {
   "cell_type": "markdown",
   "metadata": {},
   "source": [
    "# FUNCTIONS"
   ]
  },
  {
   "cell_type": "code",
   "execution_count": 30,
   "metadata": {},
   "outputs": [],
   "source": [
    "def list_spaces(qlik_connection:Qlik,limit=100):\n",
    "    \"\"\"\n",
    "    Generate a data frame with objects and required attributes.\n",
    "    \"\"\"\n",
    "    spaces=qlik_connection.spaces.get_spaces(limit=limit)\n",
    "    return pd.DataFrame(\n",
    "        [{'id':space.id,'name':space.name,'type':space.type} for space in spaces]\n",
    "        )"
   ]
  },
  {
   "cell_type": "markdown",
   "metadata": {},
   "source": [
    "# SCRIPT"
   ]
  },
  {
   "cell_type": "code",
   "execution_count": 25,
   "metadata": {},
   "outputs": [],
   "source": [
    "qlik = Qlik(Config(host=base_url, auth_type=AuthType.APIKey, api_key=api_key))\n",
    "#user_me = qlik.users.get_me()"
   ]
  },
  {
   "cell_type": "markdown",
   "metadata": {},
   "source": [
    "## Spaces"
   ]
  },
  {
   "cell_type": "code",
   "execution_count": 33,
   "metadata": {},
   "outputs": [],
   "source": [
    "spaces_file_name=f\"./data/out/{tenant_name}_spaces_{pd.Timestamp.now()}.csv\"\n",
    "df_spaces=list_spaces(qlik).sort_values(by='name')\n",
    "df_spaces.to_csv(spaces_file_name,index=False)"
   ]
  },
  {
   "cell_type": "code",
   "execution_count": 36,
   "metadata": {},
   "outputs": [
    {
     "data": {
      "text/plain": [
       "['63405079edaf5ebb6ca1f45c',\n",
       " '6351f554cba2a3fd0a958ee9',\n",
       " '6321cdb278f127ccec563301',\n",
       " '63165061e59e085248183d2e',\n",
       " '62f533df363576402b393389',\n",
       " '6321d2045c59b790f021e863',\n",
       " '63207fb978f127ccec55e2bc',\n",
       " '63207d937ffe48774b646a57',\n",
       " '6321dfe5643866a5a4da9c0d',\n",
       " '63207fc37ffe48774b646b02',\n",
       " '63207dcc643866a5a4da4606',\n",
       " '6321e004bf57f02d5e4750e0',\n",
       " '63207fcd643866a5a4da46a7',\n",
       " '63207df4cd38c4bbb4437196',\n",
       " '6321e0167ffe48774b64c022',\n",
       " '63207fd85c59b790f021963f',\n",
       " '63207e037ffe48774b646a81',\n",
       " '6321e027643866a5a4da9c1e',\n",
       " '630fc642df0f30cabca891cf',\n",
       " '62f285dd1661fb1928bd19c7',\n",
       " '634807155afb7cb59dbce488',\n",
       " '6340555143da473e8b89543d',\n",
       " '6323762a7ffe48774b652273',\n",
       " '6311110bcf78ce1cfa00d5fb',\n",
       " '6323778b78f127ccec569a7d',\n",
       " '634c6d76e166f5776f7d9591',\n",
       " '6314e64edf0f30cabca9d392',\n",
       " '631a717db589f79e3a7f5245']"
      ]
     },
     "execution_count": 36,
     "metadata": {},
     "output_type": "execute_result"
    }
   ],
   "source": [
    "df_spaces['id'].tolist()"
   ]
  },
  {
   "cell_type": "code",
   "execution_count": null,
   "metadata": {},
   "outputs": [],
   "source": []
  }
 ],
 "metadata": {
  "kernelspec": {
   "display_name": "Python 3.10.6 ('qlikcloud')",
   "language": "python",
   "name": "python3"
  },
  "language_info": {
   "codemirror_mode": {
    "name": "ipython",
    "version": 3
   },
   "file_extension": ".py",
   "mimetype": "text/x-python",
   "name": "python",
   "nbconvert_exporter": "python",
   "pygments_lexer": "ipython3",
   "version": "3.10.6"
  },
  "orig_nbformat": 4,
  "vscode": {
   "interpreter": {
    "hash": "e087c9512819afb3ca9a5a75d21f9cfc6ccd88a80405da3b4b6f66cdc03a230d"
   }
  }
 },
 "nbformat": 4,
 "nbformat_minor": 2
}
