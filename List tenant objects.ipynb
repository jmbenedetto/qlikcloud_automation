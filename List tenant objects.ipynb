{
 "cells": [
  {
   "cell_type": "markdown",
   "metadata": {},
   "source": [
    "# GOAL\n",
    "Export tanant objects to csv files."
   ]
  },
  {
   "cell_type": "markdown",
   "metadata": {},
   "source": [
    "# PACKAGES"
   ]
  },
  {
   "cell_type": "code",
   "execution_count": 1,
   "metadata": {},
   "outputs": [],
   "source": [
    "from qlik_sdk import Apps, AuthType, Config, Auth, Qlik\n",
    "import os\n",
    "import pandas as pd"
   ]
  },
  {
   "cell_type": "markdown",
   "metadata": {},
   "source": [
    "# PARAMETERS"
   ]
  },
  {
   "cell_type": "code",
   "execution_count": 23,
   "metadata": {},
   "outputs": [],
   "source": [
    "api_key = os.getenv('QLIK_CLOUD_API_KEY_SVE')\n",
    "tenant_name='sve.us'\n",
    "base_url = \"https://\"+tenant_name+\".qlikcloud.com\""
   ]
  },
  {
   "cell_type": "markdown",
   "metadata": {},
   "source": [
    "# FUNCTIONS"
   ]
  },
  {
   "cell_type": "code",
   "execution_count": 24,
   "metadata": {},
   "outputs": [],
   "source": [
    "def list_spaces(qlik_connection:Qlik):\n",
    "    \"\"\"\n",
    "    Generate a data frame with objects and required attributes.\n",
    "    \"\"\"\n",
    "    spaces=qlik_connection.spaces.get_spaces()\n",
    "    return pd.DataFrame(\n",
    "        [{'id':space.id,'name':space.name,'type':space.type} for space in spaces]\n",
    "        )"
   ]
  },
  {
   "cell_type": "markdown",
   "metadata": {},
   "source": [
    "# SCRIPT"
   ]
  },
  {
   "cell_type": "code",
   "execution_count": 25,
   "metadata": {},
   "outputs": [],
   "source": [
    "qlik = Qlik(Config(host=base_url, auth_type=AuthType.APIKey, api_key=api_key))\n",
    "#user_me = qlik.users.get_me()"
   ]
  },
  {
   "cell_type": "markdown",
   "metadata": {},
   "source": [
    "## Spaces"
   ]
  },
  {
   "cell_type": "code",
   "execution_count": 27,
   "metadata": {},
   "outputs": [],
   "source": [
    "spaces_file_name=f\"./data/out/{tenant_name}_spaces_{pd.Timestamp.now()}.csv\"\n",
    "list_spaces(qlik).to_csv(spaces_file_name,index=False)"
   ]
  },
  {
   "cell_type": "code",
   "execution_count": null,
   "metadata": {},
   "outputs": [],
   "source": []
  }
 ],
 "metadata": {
  "kernelspec": {
   "display_name": "Python 3.10.6 ('qlikcloud')",
   "language": "python",
   "name": "python3"
  },
  "language_info": {
   "codemirror_mode": {
    "name": "ipython",
    "version": 3
   },
   "file_extension": ".py",
   "mimetype": "text/x-python",
   "name": "python",
   "nbconvert_exporter": "python",
   "pygments_lexer": "ipython3",
   "version": "3.10.6"
  },
  "orig_nbformat": 4,
  "vscode": {
   "interpreter": {
    "hash": "e087c9512819afb3ca9a5a75d21f9cfc6ccd88a80405da3b4b6f66cdc03a230d"
   }
  }
 },
 "nbformat": 4,
 "nbformat_minor": 2
}
